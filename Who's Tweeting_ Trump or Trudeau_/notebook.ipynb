{
 "cells": [
  {
   "cell_type": "markdown",
   "metadata": {
    "dc": {
     "key": "4"
    },
    "deletable": false,
    "editable": false,
    "run_control": {
     "frozen": true
    },
    "tags": [
     "context"
    ]
   },
   "source": [
    "## 1. Tweet classification: Trump vs. Trudeau\n",
    "<p>So you think you can classify text? How about tweets? In this notebook, we'll take a dive into the world of social media text classification by investigating how to properly classify tweets from two prominent North American politicians: Donald Trump and Justin Trudeau.</p>\n",
    "<p><img src=\"https://upload.wikimedia.org/wikipedia/commons/thumb/4/47/President_Donald_Trump_and_Prime_Minister_Justin_Trudeau_Joint_Press_Conference%2C_February_13%2C_2017.jpg/800px-President_Donald_Trump_and_Prime_Minister_Justin_Trudeau_Joint_Press_Conference%2C_February_13%2C_2017.jpg\" alt=\"Donald Trump and Justin Trudeau shaking hands.\" height=\"50%\" width=\"50%\"></p>\n",
    "<p><a href=\"https://commons.wikimedia.org/wiki/File:President_Donald_Trump_and_Prime_Minister_Justin_Trudeau_Joint_Press_Conference,_February_13,_2017.jpg\">Photo Credit: Executive Office of the President of the United States</a></p>\n",
    "<p>Tweets pose specific problems to NLP, including the fact they are shorter texts. There are also plenty of platform-specific conventions to give you hassles: mentions, #hashtags, emoji, links and short-hand phrases (ikr?). Can we overcome those challenges and build a useful classifier for these two tweeters? Yes! Let's get started.</p>\n",
    "<p>To begin, we will import all the tools we need from scikit-learn. We will need to properly vectorize our data (<code>CountVectorizer</code> and <code>TfidfVectorizer</code>). And we will also want to import some models, including <code>MultinomialNB</code> from the <code>naive_bayes</code> module, <code>LinearSVC</code> from the <code>svm</code> module and <code>PassiveAggressiveClassifier</code> from the <code>linear_model</code> module. Finally, we'll need <code>sklearn.metrics</code> and <code>train_test_split</code> and <code>GridSearchCV</code> from the <code>model_selection</code> module to evaluate and optimize our model.</p>"
   ]
  },
  {
   "cell_type": "code",
   "execution_count": 156,
   "metadata": {
    "dc": {
     "key": "4"
    },
    "tags": [
     "sample_code"
    ]
   },
   "outputs": [],
   "source": [
    "# Set seed for reproducibility\n",
    "import random; random.seed(53)\n",
    "\n",
    "# Import all we need from sklearn\n",
    "from sklearn.feature_extraction.text import CountVectorizer, TfidfVectorizer\n",
    "from sklearn.model_selection import train_test_split, GridSearchCV\n",
    "from sklearn.naive_bayes import MultinomialNB\n",
    "from sklearn.svm import LinearSVC\n",
    "from sklearn.metrics import *"
   ]
  },
  {
   "cell_type": "markdown",
   "metadata": {
    "dc": {
     "key": "11"
    },
    "deletable": false,
    "editable": false,
    "run_control": {
     "frozen": true
    },
    "tags": [
     "context"
    ]
   },
   "source": [
    "## 2. Transforming our collected data\n",
    "<p>To begin, let's start with a corpus of tweets which were collected in November 2017. They are available in CSV format. We'll use a Pandas DataFrame to help import the data and pass it to scikit-learn for further processing.</p>\n",
    "<p>Since the data has been collected via the Twitter API and not split into test and training sets, we'll need to do this. Let's use <code>train_test_split()</code> with <code>random_state=53</code> and a test size of 0.33, just as we did in the DataCamp course. This will ensure we have enough test data and we'll get the same results no matter where or when we run this code.</p>"
   ]
  },
  {
   "cell_type": "code",
   "execution_count": 158,
   "metadata": {
    "dc": {
     "key": "11"
    },
    "tags": [
     "sample_code"
    ]
   },
   "outputs": [
    {
     "data": {
      "text/plain": [
       "id        0\n",
       "author    0\n",
       "status    0\n",
       "dtype: int64"
      ]
     },
     "execution_count": 158,
     "metadata": {},
     "output_type": "execute_result"
    }
   ],
   "source": [
    "import pandas as pd\n",
    "\n",
    "# Load data\n",
    "tweet_df = pd.read_csv(\"datasets/tweets.csv\")\n",
    "\n",
    "# Create target\n",
    "y = tweet_df.author\n",
    "\n",
    "# Split training and testing data\n",
    "X_train, X_test, y_train, y_test = train_test_split(tweet_df.status,y,random_state=53,test_size=0.33)\n",
    "\n",
    "tweet_df.head().isnull().sum()\n"
   ]
  },
  {
   "cell_type": "markdown",
   "metadata": {
    "dc": {
     "key": "18"
    },
    "deletable": false,
    "editable": false,
    "run_control": {
     "frozen": true
    },
    "tags": [
     "context"
    ]
   },
   "source": [
    "## 3. Vectorize the tweets\n",
    "<p>We have the training and testing data all set up, but we need to create vectorized representations of the tweets in order to apply machine learning.</p>\n",
    "<p>To do so, we will utilize the <code>CountVectorizer</code> and <code>TfidfVectorizer</code> classes which we will first need to fit to the data.</p>\n",
    "<p>Once this is complete, we can start modeling with the new vectorized tweets!</p>"
   ]
  },
  {
   "cell_type": "code",
   "execution_count": 160,
   "metadata": {
    "dc": {
     "key": "18"
    },
    "tags": [
     "sample_code"
    ]
   },
   "outputs": [],
   "source": [
    "# Initialize count vectorizer\n",
    "count_vectorizer = CountVectorizer(stop_words = \"english\",min_df=0.05,max_df=0.9)\n",
    "\n",
    "# Create count train and test variables\n",
    "count_train = count_vectorizer.fit_transform(X_train)\n",
    "count_test = count_vectorizer.transform(X_test)\n",
    "\n",
    "# Initialize tfidf vectorizer\n",
    "tfidf_vectorizer = TfidfVectorizer(stop_words=\"english\",min_df=0.05,max_df=0.9)\n",
    "\n",
    "# Create tfidf train and test variables\n",
    "tfidf_train = tfidf_vectorizer.fit_transform(X_train)\n",
    "tfidf_test = tfidf_vectorizer.transform(X_test)\n",
    "\n"
   ]
  },
  {
   "cell_type": "markdown",
   "metadata": {
    "dc": {
     "key": "25"
    },
    "deletable": false,
    "editable": false,
    "run_control": {
     "frozen": true
    },
    "tags": [
     "context"
    ]
   },
   "source": [
    "## 4. Training a multinomial naive Bayes model\n",
    "<p>Now that we have the data in vectorized form, we can train the first model. Investigate using the Multinomial Naive Bayes model with both the <code>CountVectorizer</code> and <code>TfidfVectorizer</code> data. Which do will perform better? How come?</p>\n",
    "<p>To assess the accuracies, we will print the test sets accuracy scores for both models.</p>"
   ]
  },
  {
   "cell_type": "code",
   "execution_count": 162,
   "metadata": {
    "dc": {
     "key": "25"
    },
    "tags": [
     "sample_code"
    ]
   },
   "outputs": [
    {
     "name": "stdout",
     "output_type": "stream",
     "text": [
      "NaiveBayes Tfidf Score:  0.803030303030303\n",
      "NaiveBayes Count Score:  0.7954545454545454\n"
     ]
    }
   ],
   "source": [
    "# Create a MulitnomialNB model\n",
    "tfidf_nb = MultinomialNB()\n",
    "\n",
    "tfidf_nb.fit(tfidf_train,y_train)\n",
    "# Run predict on your TF-IDF test data to get your predictions\n",
    "tfidf_nb_pred = tfidf_nb.predict(tfidf_test)\n",
    "\n",
    "# Calculate the accuracy of your predictions\n",
    "tfidf_nb_score = accuracy_score(tfidf_nb_pred,y_test)\n",
    "\n",
    "# Create a MulitnomialNB model\n",
    "count_nb = MultinomialNB()\n",
    "# ... Train your model here ...\n",
    "count_nb.fit(count_train,y_train)\n",
    "# Run predict on your count test data to get your predictions\n",
    "count_nb_pred = count_nb.predict(count_test)\n",
    "\n",
    "# Calculate the accuracy of your predictions\n",
    "count_nb_score = accuracy_score(count_nb_pred,y_test)\n",
    "\n",
    "print('NaiveBayes Tfidf Score: ', tfidf_nb_score)\n",
    "print('NaiveBayes Count Score: ', count_nb_score)"
   ]
  },
  {
   "cell_type": "markdown",
   "metadata": {
    "dc": {
     "key": "32"
    },
    "deletable": false,
    "editable": false,
    "run_control": {
     "frozen": true
    },
    "tags": [
     "context"
    ]
   },
   "source": [
    "## 5. Evaluating our model using a confusion matrix\n",
    "<p>We see that the TF-IDF model performs better than the count-based approach. Based on what we know from the NLP fundamentals course, why might that be? We know that TF-IDF allows unique tokens to have a greater weight - perhaps tweeters are using specific important words that identify them! Let's continue the investigation.</p>\n",
    "<p>For classification tasks, an accuracy score doesn't tell the whole picture. A better evaluation can be made if we look at the confusion matrix, which shows the number correct and incorrect classifications based on each class. We can use the metrics, True Positives, False Positives, False Negatives, and True Negatives, to determine how well the model performed on a given class. How many times was Trump misclassified as Trudeau?</p>"
   ]
  },
  {
   "cell_type": "code",
   "execution_count": 164,
   "metadata": {
    "dc": {
     "key": "32"
    },
    "tags": [
     "sample_code"
    ]
   },
   "outputs": [
    {
     "name": "stdout",
     "output_type": "stream",
     "text": [
      "Confusion matrix, without normalization\n",
      "Confusion matrix, without normalization\n"
     ]
    },
    {
     "data": {
      "image/png": "[encoded data removed]",
      "text/plain": [
       "<Figure size 432x288 with 2 Axes>"
      ]
     },
     "metadata": {},
     "output_type": "display_data"
    },
    {
     "data": {
      "image/png": "[encoded data removed]",
      "text/plain": [
       "<Figure size 432x288 with 2 Axes>"
      ]
     },
     "metadata": {},
     "output_type": "display_data"
    }
   ],
   "source": [
    "%matplotlib inline\n",
    "\n",
    "from datasets.helper_functions import plot_confusion_matrix\n",
    "\n",
    "# Calculate the confusion matrices for the tfidf_nb model and count_nb models\n",
    "tfidf_nb_cm = confusion_matrix(y_test,tfidf_nb_pred)\n",
    "count_nb_cm = confusion_matrix(y_test,count_nb_pred)\n",
    "\n",
    "# Plot the tfidf_nb_cm confusion matrix\n",
    "plot_confusion_matrix(tfidf_nb_cm, classes=[\"Trump\",\"Trudeau\"], title=\"TF-IDF NB Confusion Matrix\")\n",
    "\n",
    "# Plot the count_nb_cm confusion matrix without overwriting the first plot \n",
    "plot_confusion_matrix(count_nb_cm, classes=[\"Trump\",\"Trudeau\"], title=\"CV NB CM\", figure=1)"
   ]
  },
  {
   "cell_type": "markdown",
   "metadata": {
    "dc": {
     "key": "39"
    },
    "deletable": false,
    "editable": false,
    "run_control": {
     "frozen": true
    },
    "tags": [
     "context"
    ]
   },
   "source": [
    "## 6. Trying out another classifier: Linear SVC\n",
    "<p>So the Bayesian model only has one prediction difference between the TF-IDF and count vectorizers -- fairly impressive! Interestingly, there is some confusion when the predicted label is Trump but the actual tweeter is Trudeau. If we were going to use this model, we would want to investigate what tokens are causing the confusion in order to improve the model. </p>\n",
    "<p>Now that we've seen what the Bayesian model can do, how about trying a different approach? <a href=\"https://scikit-learn.org/stable/modules/generated/sklearn.svm.LinearSVC.html\">LinearSVC</a> is another popular choice for text classification. Let's see if using it with the TF-IDF vectors improves the accuracy of the classifier!</p>"
   ]
  },
  {
   "cell_type": "code",
   "execution_count": 166,
   "metadata": {
    "dc": {
     "key": "39"
    },
    "tags": [
     "sample_code"
    ]
   },
   "outputs": [
    {
     "name": "stdout",
     "output_type": "stream",
     "text": [
      "LinearSVC Score:   0.841\n",
      "Confusion matrix, without normalization\n"
     ]
    },
    {
     "data": {
      "image/png": "[encoded data removed]",
      "text/plain": [
       "<Figure size 432x288 with 2 Axes>"
      ]
     },
     "metadata": {},
     "output_type": "display_data"
    }
   ],
   "source": [
    "# Create a LinearSVM model\n",
    "tfidf_svc = LinearSVC()\n",
    "\n",
    "# ... Train your model here ...\n",
    "\n",
    "tfidf_svc.fit(tfidf_train,y_train)\n",
    "\n",
    "\n",
    "# Run predict on your tfidf test data to get your predictions\n",
    "tfidf_svc_pred = tfidf_svc.predict(tfidf_test)\n",
    "\n",
    "# Calculate your accuracy using the metrics module\n",
    "tfidf_svc_score = accuracy_score(tfidf_svc_pred,y_test)\n",
    "\n",
    "print(\"LinearSVC Score:   %0.3f\" % tfidf_svc_score)\n",
    "\n",
    "# Calculate the confusion matrices for the tfidf_svc model\n",
    "svc_cm = confusion_matrix(tfidf_svc_pred,y_test)\n",
    "\n",
    "# Plot the confusion matrix using the plot_confusion_matrix function\n",
    "plot_confusion_matrix(svc_cm, classes=[\"Trump\",\"Trudeau\"], title=\"TF-IDF LinearSVC Confusion Matrix\")"
   ]
  },
  {
   "cell_type": "markdown",
   "metadata": {
    "dc": {
     "key": "46"
    },
    "deletable": false,
    "editable": false,
    "run_control": {
     "frozen": true
    },
    "tags": [
     "context"
    ]
   },
   "source": [
    "## 7. Introspecting our top model\n",
    "<p>Wow, the LinearSVC model is even better than the Multinomial Bayesian one. Nice work! Via the confusion matrix we can see that, although there is still some confusion where Trudeau's tweets are classified as Trump's, the False Positive rate is better than the previous model. So, we have a performant model, right? </p>\n",
    "<p>We might be able to continue tweaking and improving all of the previous models by learning more about parameter optimization or applying some better preprocessing of the tweets. </p>\n",
    "<p>Now let's see what the model has learned. Using the LinearSVC Classifier with two classes (Trump and Trudeau) we can sort the features (tokens), by their weight and see the most important tokens for both Trump and Trudeau. What are the most Trump-like or Trudeau-like words? Did the model learn something useful to distinguish between these two men? </p>"
   ]
  },
  {
   "cell_type": "code",
   "execution_count": 168,
   "metadata": {
    "dc": {
     "key": "46"
    },
    "tags": [
     "sample_code"
    ]
   },
   "outputs": [
    {
     "data": {
      "image/png": "[encoded data removed]",
      "text/plain": [
       "<Figure size 1080x360 with 1 Axes>"
      ]
     },
     "metadata": {},
     "output_type": "display_data"
    },
    {
     "name": "stdout",
     "output_type": "stream",
     "text": [
      "[(-0.3959833154523758, 'great'),\n",
      " (-0.2464557155493109, 'thank'),\n",
      " (0.06257812370812041, 'president'),\n",
      " (0.4821240960822766, 'https'),\n",
      " (0.5960526970209132, 'vietnam'),\n",
      " (0.6155520785582921, 'amp'),\n",
      " (0.7725774431969232, 'le'),\n",
      " (0.8213765343299234, 'les'),\n",
      " (0.8286512107218433, 'today'),\n",
      " (1.186905140640465, 'du'),\n",
      " (1.3143522537178782, 'pour'),\n",
      " (1.4122601124325962, 'nous'),\n",
      " (1.4612779133393026, 'rt'),\n",
      " (1.4991736391423565, 'et'),\n",
      " (1.5056473029341109, 'la'),\n",
      " (1.6567973209553744, 'canada')]\n"
     ]
    }
   ],
   "source": [
    "from datasets.helper_functions import plot_and_return_top_features\n",
    "\n",
    "# Import pprint from pprint\n",
    "from pprint import pprint\n",
    "\n",
    "# Get the top features using the plot_and_return_top_features function and your top model and tfidf vectorizer\n",
    "top_features = plot_and_return_top_features(tfidf_svc,tfidf_vectorizer)\n",
    "\n",
    "# pprint the top features\n",
    "pprint(top_features)"
   ]
  },
  {
   "cell_type": "markdown",
   "metadata": {
    "dc": {
     "key": "53"
    },
    "deletable": false,
    "editable": false,
    "run_control": {
     "frozen": true
    },
    "tags": [
     "context"
    ]
   },
   "source": [
    "## 8. Bonus: can you write a Trump or Trudeau tweet?\n",
    "<p>So, what did our model learn? It seems like it learned that Trudeau tweets in French!</p>\n",
    "<p>I challenge you to write your own tweet using the knowledge gained to trick the model! Use the printed list or plot above to make some inferences about what words will classify your text as Trump or Trudeau. Can you fool the model into thinking you are Trump or Trudeau?</p>\n",
    "<p>If you can write French, feel free to make your Trudeau-impersonation tweet in French! As you may have noticed, these French words are common words, or, \"stop words\". You could remove both English and French stop words from the tweets as a preprocessing step, but that might decrease the accuracy of the model because Trudeau is the only French-speaker in the group. If you had a dataset with more than one French speaker, this would be a useful preprocessing step.</p>\n",
    "<p>Future work on this dataset could involve:</p>\n",
    "<ul>\n",
    "<li>Add extra preprocessing (such as removing URLs or French stop words) and see the effects</li>\n",
    "<li>Use GridSearchCV to improve both your Bayesian and LinearSVC models by finding the optimal parameters</li>\n",
    "<li>Introspect your Bayesian model to determine what words are more Trump- or Trudeau- like</li>\n",
    "<li>Add more recent tweets to your dataset using tweepy and retrain</li>\n",
    "</ul>\n",
    "<p>Good luck writing your impersonation tweets -- feel free to share them on Twitter!</p>"
   ]
  },
  {
   "cell_type": "code",
   "execution_count": 170,
   "metadata": {
    "dc": {
     "key": "53"
    },
    "tags": [
     "sample_code"
    ]
   },
   "outputs": [
    {
     "name": "stdout",
     "output_type": "stream",
     "text": [
      "Predicted Trump tweet ['Donald J. Trump']\n",
      "Predicted Trudeau tweet ['Justin Trudeau']\n"
     ]
    }
   ],
   "source": [
    "# Write two tweets as strings, one which you want to classify as Trump and one as Trudeau\n",
    "trump_tweet = \"we will destroy all the countries in middle east\"\n",
    "trudeau_tweet = \"j'aime la vie\"\n",
    "\n",
    "# Vectorize each tweet using the TF-IDF vectorizer's transform method\n",
    "# Note: `transform` needs the string in a list object (i.e. [trump_tweet])\n",
    "trump_tweet_vectorized = tfidf_vectorizer.transform([trump_tweet])\n",
    "trudeau_tweet_vectorized = tfidf_vectorizer.transform([trudeau_tweet])\n",
    "\n",
    "# Call the predict method on your vectorized tweets\n",
    "trump_tweet_pred = tfidf_nb.predict(trump_tweet_vectorized)\n",
    "trudeau_tweet_pred = tfidf_nb.predict(trudeau_tweet_vectorized)\n",
    "\n",
    "print(\"Predicted Trump tweet\", trump_tweet_pred)\n",
    "print(\"Predicted Trudeau tweet\", trudeau_tweet_pred)"
   ]
  }
 ],
 "metadata": {
  "kernelspec": {
   "display_name": "Python 3",
   "language": "python",
   "name": "python3"
  },
  "language_info": {
   "codemirror_mode": {
    "name": "ipython",
    "version": 3
   },
   "file_extension": ".py",
   "mimetype": "text/x-python",
   "name": "python",
   "nbconvert_exporter": "python",
   "pygments_lexer": "ipython3",
   "version": "3.7.3"
  }
 },
 "nbformat": 4,
 "nbformat_minor": 2
}
